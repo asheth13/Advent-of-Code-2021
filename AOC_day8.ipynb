{
 "cells": [
  {
   "cell_type": "code",
   "execution_count": null,
   "metadata": {},
   "outputs": [],
   "source": [
    "--- Day 8: Seven Segment Search ---\n",
    "You barely reach the safety of the cave when the whale smashes into the cave mouth, collapsing it. Sensors indicate another exit to this cave at a much greater depth, so you have no choice but to press on.\n",
    "\n",
    "As your submarine slowly makes its way through the cave system, you notice that the four-digit seven-segment displays in your submarine are malfunctioning; they must have been damaged during the escape. You'll be in a lot of trouble without them, so you'd better figure out what's wrong.\n",
    "\n",
    "Each digit of a seven-segment display is rendered by turning on or off any of seven segments named a through g:\n",
    "\n",
    "  0:      1:      2:      3:      4:\n",
    " aaaa    ....    aaaa    aaaa    ....\n",
    "b    c  .    c  .    c  .    c  b    c\n",
    "b    c  .    c  .    c  .    c  b    c\n",
    " ....    ....    dddd    dddd    dddd\n",
    "e    f  .    f  e    .  .    f  .    f\n",
    "e    f  .    f  e    .  .    f  .    f\n",
    " gggg    ....    gggg    gggg    ....\n",
    "\n",
    "  5:      6:      7:      8:      9:\n",
    " aaaa    aaaa    aaaa    aaaa    aaaa\n",
    "b    .  b    .  .    c  b    c  b    c\n",
    "b    .  b    .  .    c  b    c  b    c\n",
    " dddd    dddd    ....    dddd    dddd\n",
    ".    f  e    f  .    f  e    f  .    f\n",
    ".    f  e    f  .    f  e    f  .    f\n",
    " gggg    gggg    ....    gggg    gggg\n",
    "So, to render a 1, only segments c and f would be turned on; the rest would be off. To render a 7, only segments a, c, and f would be turned on.\n",
    "\n",
    "The problem is that the signals which control the segments have been mixed up on each display. The submarine is still trying to display numbers by producing output on signal wires a through g, but those wires are connected to segments randomly. Worse, the wire/segment connections are mixed up separately for each four-digit display! (All of the digits within a display use the same connections, though.)\n",
    "\n",
    "So, you might know that only signal wires b and g are turned on, but that doesn't mean segments b and g are turned on: the only digit that uses two segments is 1, so it must mean segments c and f are meant to be on. With just that information, you still can't tell which wire (b/g) goes to which segment (c/f). For that, you'll need to collect more information.\n",
    "\n",
    "For each display, you watch the changing signals for a while, make a note of all ten unique signal patterns you see, and then write down a single four digit output value (your puzzle input). Using the signal patterns, you should be able to work out which pattern corresponds to which digit.\n",
    "\n",
    "For example, here is what you might see in a single entry in your notes:\n",
    "\n",
    "acedgfb cdfbe gcdfa fbcad dab cefabd cdfgeb eafb cagedb ab |\n",
    "cdfeb fcadb cdfeb cdbaf\n",
    "(The entry is wrapped here to two lines so it fits; in your notes, it will all be on a single line.)\n",
    "\n",
    "Each entry consists of ten unique signal patterns, a | delimiter, and finally the four digit output value. Within an entry, the same wire/segment connections are used (but you don't know what the connections actually are). The unique signal patterns correspond to the ten different ways the submarine tries to render a digit using the current wire/segment connections. Because 7 is the only digit that uses three segments, dab in the above example means that to render a 7, signal lines d, a, and b are on. Because 4 is the only digit that uses four segments, eafb means that to render a 4, signal lines e, a, f, and b are on.\n",
    "\n",
    "Using this information, you should be able to work out which combination of signal wires corresponds to each of the ten digits. Then, you can decode the four digit output value. Unfortunately, in the above example, all of the digits in the output value (cdfeb fcadb cdfeb cdbaf) use five segments and are more difficult to deduce.\n",
    "\n",
    "For now, focus on the easy digits. Consider this larger example:\n",
    "\n",
    "be cfbegad cbdgef fgaecd cgeb fdcge agebfd fecdb fabcd edb |\n",
    "fdgacbe cefdb cefbgd gcbe\n",
    "edbfga begcd cbg gc gcadebf fbgde acbgfd abcde gfcbed gfec |\n",
    "fcgedb cgb dgebacf gc\n",
    "fgaebd cg bdaec gdafb agbcfd gdcbef bgcad gfac gcb cdgabef |\n",
    "cg cg fdcagb cbg\n",
    "fbegcd cbd adcefb dageb afcb bc aefdc ecdab fgdeca fcdbega |\n",
    "efabcd cedba gadfec cb\n",
    "aecbfdg fbg gf bafeg dbefa fcge gcbea fcaegb dgceab fcbdga |\n",
    "gecf egdcabf bgf bfgea\n",
    "fgeab ca afcebg bdacfeg cfaedg gcfdb baec bfadeg bafgc acf |\n",
    "gebdcfa ecba ca fadegcb\n",
    "dbcfg fgd bdegcaf fgec aegbdf ecdfab fbedc dacgb gdcebf gf |\n",
    "cefg dcbef fcge gbcadfe\n",
    "bdfegc cbegaf gecbf dfcage bdacg ed bedf ced adcbefg gebcd |\n",
    "ed bcgafe cdgba cbgef\n",
    "egadfb cdbfeg cegd fecab cgb gbdefca cg fgcdab egfdb bfceg |\n",
    "gbdfcae bgc cg cgb\n",
    "gcafb gcf dcaebfg ecagb gf abcdeg gaef cafbge fdbac fegbdc |\n",
    "fgae cfgab fg bagce\n",
    "Because the digits 1, 4, 7, and 8 each use a unique number of segments, you should be able to tell which combinations of signals correspond to those digits. Counting only digits in the output values (the part after | on each line), in the above example, there are 26 instances of digits that use a unique number of segments (highlighted above).\n",
    "\n",
    "In the output values, how many times do digits 1, 4, 7, or 8 appear?\n",
    "\n",
    "Your puzzle answer was 390.\n",
    "\n",
    "--- Part Two ---\n",
    "Through a little deduction, you should now be able to determine the remaining digits. Consider again the first example above:\n",
    "\n",
    "acedgfb cdfbe gcdfa fbcad dab cefabd cdfgeb eafb cagedb ab |\n",
    "cdfeb fcadb cdfeb cdbaf\n",
    "After some careful analysis, the mapping between signal wires and segments only make sense in the following configuration:\n",
    "\n",
    " dddd\n",
    "e    a\n",
    "e    a\n",
    " ffff\n",
    "g    b\n",
    "g    b\n",
    " cccc\n",
    "So, the unique signal patterns would correspond to the following digits:\n",
    "\n",
    "acedgfb: 8\n",
    "cdfbe: 5\n",
    "gcdfa: 2\n",
    "fbcad: 3\n",
    "dab: 7\n",
    "cefabd: 9\n",
    "cdfgeb: 6\n",
    "eafb: 4\n",
    "cagedb: 0\n",
    "ab: 1\n",
    "Then, the four digits of the output value can be decoded:\n",
    "\n",
    "cdfeb: 5\n",
    "fcadb: 3\n",
    "cdfeb: 5\n",
    "cdbaf: 3\n",
    "Therefore, the output value for this entry is 5353.\n",
    "\n",
    "Following this same process for each entry in the second, larger example above, the output value of each entry can be determined:\n",
    "\n",
    "fdgacbe cefdb cefbgd gcbe: 8394\n",
    "fcgedb cgb dgebacf gc: 9781\n",
    "cg cg fdcagb cbg: 1197\n",
    "efabcd cedba gadfec cb: 9361\n",
    "gecf egdcabf bgf bfgea: 4873\n",
    "gebdcfa ecba ca fadegcb: 8418\n",
    "cefg dcbef fcge gbcadfe: 4548\n",
    "ed bcgafe cdgba cbgef: 1625\n",
    "gbdfcae bgc cg cgb: 8717\n",
    "fgae cfgab fg bagce: 4315\n",
    "Adding all of the output values in this larger example produces 61229.\n",
    "\n",
    "For each entry, determine all of the wire/segment connections and decode the four-digit output values. What do you get if you add up all of the output values?\n",
    "\n",
    "Your puzzle answer was 1011785.\n",
    "\n",
    "Both parts of this puzzle are complete! They provide two gold stars: **\n",
    "\n",
    "At this point, you should return to your Advent calendar and try another puzzle.\n",
    "\n",
    "If you still want to see it, you can get your puzzle input.\n",
    "\n",
    "You can also [Share] this puzzle."
   ]
  },
  {
   "cell_type": "code",
   "execution_count": 1,
   "metadata": {},
   "outputs": [],
   "source": [
    "data=\"C:/Users/asheth13/Documents/Python_Scripts/AOC/Data_AOC_8_p1.txt\" # import data"
   ]
  },
  {
   "cell_type": "code",
   "execution_count": 2,
   "metadata": {},
   "outputs": [],
   "source": [
    "import numpy as np # ability to use arrays"
   ]
  },
  {
   "cell_type": "code",
   "execution_count": 3,
   "metadata": {},
   "outputs": [],
   "source": [
    "a=np.asarray([])\n",
    "with open(data,\"r\") as file1: \n",
    "        for line in file1:\n",
    "                a=np.append(a,line.split(\"|\"))"
   ]
  },
  {
   "cell_type": "code",
   "execution_count": 4,
   "metadata": {},
   "outputs": [],
   "source": [
    "b=np.asarray([])\n",
    "i=0\n",
    "while i < len(a)/2:\n",
    "    b=np.append(b,a[2*i+1].split())\n",
    "    i=i+1"
   ]
  },
  {
   "cell_type": "code",
   "execution_count": 5,
   "metadata": {},
   "outputs": [],
   "source": [
    "i=0\n",
    "one=0\n",
    "four=0\n",
    "eight=0\n",
    "seven=0\n",
    "while i < len(b):\n",
    "    if len(b[i])==2:\n",
    "        one=one+1\n",
    "    elif len(b[i])==4:\n",
    "        four= four+1\n",
    "    elif len(b[i])==3:\n",
    "        seven= seven+1        \n",
    "    elif len(b[i])==7:\n",
    "        eight= eight+1\n",
    "    i=i+1\n",
    "        "
   ]
  },
  {
   "cell_type": "code",
   "execution_count": 6,
   "metadata": {},
   "outputs": [
    {
     "data": {
      "text/plain": [
       "390"
      ]
     },
     "execution_count": 6,
     "metadata": {},
     "output_type": "execute_result"
    }
   ],
   "source": [
    "one+four+seven+eight"
   ]
  },
  {
   "cell_type": "code",
   "execution_count": 7,
   "metadata": {},
   "outputs": [],
   "source": [
    "decode=np.asarray([])\n",
    "i=0\n",
    "while i < len(a)/2:\n",
    "    decode=np.append(decode,a[2*i].split())\n",
    "    i=i+1"
   ]
  },
  {
   "cell_type": "code",
   "execution_count": 9,
   "metadata": {},
   "outputs": [],
   "source": [
    "i=0\n",
    "codes=[]\n",
    "while i < len(decode):\n",
    "    j=0\n",
    "    dis=np.asarray([])\n",
    "    while j < 10: \n",
    "        dis=np.append(dis,decode[i+j])\n",
    "        j=j+1\n",
    "    for j in range(10):               \n",
    "        if len(set(dis[j]))==2:\n",
    "            one_2=set(dis[j])\n",
    "        elif len(set(dis[j]))==3:\n",
    "            seven_3=set(dis[j])\n",
    "        elif len(set(dis[j]))==4:\n",
    "            four_4=set(dis[j])\n",
    "        elif len(set(dis[j]))==7:\n",
    "            eight_7=set(dis[j])\n",
    "\n",
    "    for j in range(10):\n",
    "        if len(set(dis[j]))==6 and len(set(dis[j])-four_4)==2:\n",
    "            nine_5=set(dis[j])\n",
    "        elif len(set(dis[j]))==5 and len(set(dis[j])-four_4)==3:\n",
    "            two_5=set(dis[j])\n",
    "        elif len(set(dis[j]))==5 and len(set(dis[j])-seven_3)==2:\n",
    "            three_5=set(dis[j])\n",
    "            \n",
    "    for j in range(10):\n",
    "        if len(set(dis[j]))==5 and len(set(dis[j])-two_5)==2:\n",
    "            five_5=set(dis[j])\n",
    "        elif len(set(dis[j]))==6 and len(set(dis[j])-seven_3)==4:\n",
    "            six_6=set(dis[j])\n",
    "            \n",
    "    for j in range(10):\n",
    "        if len(set(dis[j]))==6 and len(set(dis[j])-five_5)==2:\n",
    "            zero_6=set(dis[j])    \n",
    "\n",
    "    code=[zero_6,one_2, two_5, three_5, four_4, five_5, six_6, seven_3, eight_7, nine_5]\n",
    "    codes.append(code)    \n",
    "    i=i+10                 "
   ]
  },
  {
   "cell_type": "code",
   "execution_count": 10,
   "metadata": {},
   "outputs": [],
   "source": [
    "i=0\n",
    "answers=np.asarray([])\n",
    "while i <len(b)/4:\n",
    "    j=0\n",
    "    number=str()\n",
    "    while j < 4:\n",
    "        if set(b[4*i+j]).issubset(codes[i][0]) and codes[i][0].issubset(set(b[4*i+j])):\n",
    "            number=number+'0'\n",
    "        elif set(b[4*i+j]).issubset(codes[i][1]) and codes[i][1].issubset(set(b[4*i+j])):\n",
    "            number=number+'1'\n",
    "        elif set(b[4*i+j]).issubset(codes[i][2]) and codes[i][2].issubset(set(b[4*i+j])):\n",
    "            number=number+'2' \n",
    "        elif set(b[4*i+j]).issubset(codes[i][3]) and codes[i][3].issubset(set(b[4*i+j])):\n",
    "            number=number+'3' \n",
    "        elif set(b[4*i+j]).issubset(codes[i][4]) and codes[i][4].issubset(set(b[4*i+j])):\n",
    "            number=number+'4' \n",
    "        elif set(b[4*i+j]).issubset(codes[i][5]) and codes[i][5].issubset(set(b[4*i+j])):\n",
    "            number=number+'5'\n",
    "        elif set(b[4*i+j]).issubset(codes[i][6]) and codes[i][6].issubset(set(b[4*i+j])):\n",
    "            number=number+'6'\n",
    "        elif set(b[4*i+j]).issubset(codes[i][7]) and codes[i][7].issubset(set(b[4*i+j])):\n",
    "            number=number+'7'\n",
    "        elif set(b[4*i+j]).issubset(codes[i][8]) and codes[i][8].issubset(set(b[4*i+j])):\n",
    "            number=number+'8'\n",
    "        elif set(b[4*i+j]).issubset(codes[i][9]) and codes[i][9].issubset(set(b[4*i+j])):\n",
    "            number=number+'9'\n",
    "        else:\n",
    "            number=number+'?'\n",
    "\n",
    "        j=j+1\n",
    "    answers=np.append(answers,number)\n",
    "    i=i+1        "
   ]
  },
  {
   "cell_type": "code",
   "execution_count": 12,
   "metadata": {},
   "outputs": [],
   "source": [
    "answers=answers.astype(np.float)"
   ]
  },
  {
   "cell_type": "code",
   "execution_count": 13,
   "metadata": {},
   "outputs": [
    {
     "data": {
      "text/plain": [
       "1011785.0"
      ]
     },
     "execution_count": 13,
     "metadata": {},
     "output_type": "execute_result"
    }
   ],
   "source": [
    "sum(answers)"
   ]
  },
  {
   "cell_type": "code",
   "execution_count": null,
   "metadata": {},
   "outputs": [],
   "source": []
  }
 ],
 "metadata": {
  "kernelspec": {
   "display_name": "Python 3",
   "language": "python",
   "name": "python3"
  },
  "language_info": {
   "codemirror_mode": {
    "name": "ipython",
    "version": 3
   },
   "file_extension": ".py",
   "mimetype": "text/x-python",
   "name": "python",
   "nbconvert_exporter": "python",
   "pygments_lexer": "ipython3",
   "version": "3.8.5"
  }
 },
 "nbformat": 4,
 "nbformat_minor": 4
}
