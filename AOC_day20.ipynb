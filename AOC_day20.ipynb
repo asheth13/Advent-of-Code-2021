{
 "cells": [
  {
   "cell_type": "code",
   "execution_count": null,
   "metadata": {},
   "outputs": [],
   "source": [
    "--- Day 20: Trench Map ---\n",
    "With the scanners fully deployed, you turn their attention to mapping the floor of the ocean trench.\n",
    "\n",
    "When you get back the image from the scanners, it seems to just be random noise. Perhaps you can combine an image enhancement algorithm and the input image (your puzzle input) to clean it up a little.\n",
    "\n",
    "For example:\n",
    "\n",
    "..#.#..#####.#.#.#.###.##.....###.##.#..###.####..#####..#....#..#..##..##\n",
    "#..######.###...####..#..#####..##..#.#####...##.#.#..#.##..#.#......#.###\n",
    ".######.###.####...#.##.##..#..#..#####.....#.#....###..#.##......#.....#.\n",
    ".#..#..##..#...##.######.####.####.#.#...#.......#..#.#.#...####.##.#.....\n",
    ".#..#...##.#.##..#...##.#.##..###.#......#.#.......#.#.#.####.###.##...#..\n",
    "...####.#..#..#.##.#....##..#.####....##...##..#...#......#.#.......#.....\n",
    "..##..####..#...#.#.#...##..#.#..###..#####........#..####......#..#\n",
    "\n",
    "#..#.\n",
    "#....\n",
    "##..#\n",
    "..#..\n",
    "..###\n",
    "The first section is the image enhancement algorithm. It is normally given on a single line, but it has been wrapped to multiple lines in this example for legibility. The second section is the input image, a two-dimensional grid of light pixels (#) and dark pixels (.).\n",
    "\n",
    "The image enhancement algorithm describes how to enhance an image by simultaneously converting all pixels in the input image into an output image. Each pixel of the output image is determined by looking at a 3x3 square of pixels centered on the corresponding input image pixel. So, to determine the value of the pixel at (5,10) in the output image, nine pixels from the input image need to be considered: (4,9), (4,10), (4,11), (5,9), (5,10), (5,11), (6,9), (6,10), and (6,11). These nine input pixels are combined into a single binary number that is used as an index in the image enhancement algorithm string.\n",
    "\n",
    "For example, to determine the output pixel that corresponds to the very middle pixel of the input image, the nine pixels marked by [...] would need to be considered:\n",
    "\n",
    "# . . # .\n",
    "#[. . .].\n",
    "#[# . .]#\n",
    ".[. # .].\n",
    ". . # # #\n",
    "Starting from the top-left and reading across each row, these pixels are ..., then #.., then .#.; combining these forms ...#...#.. By turning dark pixels (.) into 0 and light pixels (#) into 1, the binary number 000100010 can be formed, which is 34 in decimal.\n",
    "\n",
    "The image enhancement algorithm string is exactly 512 characters long, enough to match every possible 9-bit binary number. The first few characters of the string (numbered starting from zero) are as follows:\n",
    "\n",
    "0         10        20        30  34    40        50        60        70\n",
    "|         |         |         |   |     |         |         |         |\n",
    "..#.#..#####.#.#.#.###.##.....###.##.#..###.####..#####..#....#..#..##..##\n",
    "In the middle of this first group of characters, the character at index 34 can be found: #. So, the output pixel in the center of the output image should be #, a light pixel.\n",
    "\n",
    "This process can then be repeated to calculate every pixel of the output image.\n",
    "\n",
    "Through advances in imaging technology, the images being operated on here are infinite in size. Every pixel of the infinite output image needs to be calculated exactly based on the relevant pixels of the input image. The small input image you have is only a small region of the actual infinite input image; the rest of the input image consists of dark pixels (.). For the purposes of the example, to save on space, only a portion of the infinite-sized input and output images will be shown.\n",
    "\n",
    "The starting input image, therefore, looks something like this, with more dark pixels (.) extending forever in every direction not shown here:\n",
    "\n",
    "...............\n",
    "...............\n",
    "...............\n",
    "...............\n",
    "...............\n",
    ".....#..#......\n",
    ".....#.........\n",
    ".....##..#.....\n",
    ".......#.......\n",
    ".......###.....\n",
    "...............\n",
    "...............\n",
    "...............\n",
    "...............\n",
    "...............\n",
    "By applying the image enhancement algorithm to every pixel simultaneously, the following output image can be obtained:\n",
    "\n",
    "...............\n",
    "...............\n",
    "...............\n",
    "...............\n",
    ".....##.##.....\n",
    "....#..#.#.....\n",
    "....##.#..#....\n",
    "....####..#....\n",
    ".....#..##.....\n",
    "......##..#....\n",
    ".......#.#.....\n",
    "...............\n",
    "...............\n",
    "...............\n",
    "...............\n",
    "Through further advances in imaging technology, the above output image can also be used as an input image! This allows it to be enhanced a second time:\n",
    "\n",
    "...............\n",
    "...............\n",
    "...............\n",
    "..........#....\n",
    "....#..#.#.....\n",
    "...#.#...###...\n",
    "...#...##.#....\n",
    "...#.....#.#...\n",
    "....#.#####....\n",
    ".....#.#####...\n",
    "......##.##....\n",
    ".......###.....\n",
    "...............\n",
    "...............\n",
    "...............\n",
    "Truly incredible - now the small details are really starting to come through. After enhancing the original input image twice, 35 pixels are lit.\n",
    "\n",
    "Start with the original input image and apply the image enhancement algorithm twice, being careful to account for the infinite size of the images. How many pixels are lit in the resulting image?\n",
    "\n",
    "Your puzzle answer was 5275.\n",
    "\n",
    "--- Part Two ---\n",
    "You still can't quite make out the details in the image. Maybe you just didn't enhance it enough.\n",
    "\n",
    "If you enhance the starting input image in the above example a total of 50 times, 3351 pixels are lit in the final output image.\n",
    "\n",
    "Start again with the original input image and apply the image enhancement algorithm 50 times. How many pixels are lit in the resulting image?\n",
    "\n",
    "Your puzzle answer was 16482.\n",
    "\n",
    "Both parts of this puzzle are complete! They provide two gold stars: **\n",
    "\n",
    "At this point, you should return to your Advent calendar and try another puzzle.\n",
    "\n",
    "If you still want to see it, you can get your puzzle input.\n",
    "\n",
    "You can also [Share] this puzzle."
   ]
  },
  {
   "cell_type": "code",
   "execution_count": 3,
   "metadata": {},
   "outputs": [],
   "source": [
    "data=\"C:/Users/asheth13/Documents/Python_Scripts/AOC/Data_AOC_20_p1.txt\" # import data"
   ]
  },
  {
   "cell_type": "code",
   "execution_count": 4,
   "metadata": {},
   "outputs": [],
   "source": [
    "image=[]\n",
    "with open(data,\"r\") as file1: \n",
    "        for line in file1:\n",
    "                if len(line)>=512: \n",
    "                    algorithm=line\n",
    "                elif line != \"\\n\" and len(line)<512:\n",
    "                    image.append(list(line.strip(\"\\n\")))"
   ]
  },
  {
   "cell_type": "code",
   "execution_count": 5,
   "metadata": {},
   "outputs": [],
   "source": [
    "def resolution_1(x):\n",
    "    l=len(x[0])+6\n",
    "    x.insert(0,['.']*l)\n",
    "    x.insert(0,['.']*l)\n",
    "    x.insert(0,['.']*l)\n",
    "    x.append(['.']*l)\n",
    "    x.append(['.']*l)\n",
    "    x.append(['.']*l)\n",
    "    for i in range(3, len(x)-3):\n",
    "        x[i].insert(0,\".\")\n",
    "        x[i].insert(0,\".\")\n",
    "        x[i].insert(0,\".\")\n",
    "        x[i].append(\".\")\n",
    "        x[i].append(\".\")\n",
    "        x[i].append(\".\")\n",
    "    numbers=[]\n",
    "    for i in range(1, len(x)-1):\n",
    "        for j in range(1,len(x)-1):\n",
    "            code=[x[i-1][j-1],x[i-1][j],x[i-1][j+1],x[i][j-1],x[i][j],x[i][j+1],x[i+1][j-1],x[i+1][j],x[i+1][j+1]]\n",
    "            number=0\n",
    "            for k in range(9):\n",
    "                if code[k]==\"#\":\n",
    "                    number=2*number+1\n",
    "                elif code[k]=='.':\n",
    "                    number=2*number\n",
    "            numbers.append([i,j,number])  \n",
    "    for i in range(len(numbers)):\n",
    "        image[numbers[i][0]][numbers[i][1]]=algorithm[numbers[i][2]]\n",
    "    for i in range(len(x)):\n",
    "        x[i].pop(-1)\n",
    "        x[i].pop(0)\n",
    "    x.pop(-1)\n",
    "    x.pop(0)"
   ]
  },
  {
   "cell_type": "code",
   "execution_count": 6,
   "metadata": {},
   "outputs": [],
   "source": [
    "def resolution_2(x):\n",
    "    l=len(x[0])+6\n",
    "    x.insert(0,['#']*l)\n",
    "    x.insert(0,['#']*l)\n",
    "    x.insert(0,['#']*l)\n",
    "    x.append(['#']*l)\n",
    "    x.append(['#']*l)\n",
    "    x.append(['#']*l)\n",
    "    for i in range(3, len(x)-3):\n",
    "        x[i].insert(0,\"#\")\n",
    "        x[i].insert(0,\"#\")\n",
    "        x[i].insert(0,\"#\")\n",
    "        x[i].append(\"#\")\n",
    "        x[i].append(\"#\")\n",
    "        x[i].append(\"#\")\n",
    "    numbers=[]\n",
    "    for i in range(1, len(x)-1):\n",
    "        for j in range(1,len(x)-1):\n",
    "            code=[x[i-1][j-1],x[i-1][j],x[i-1][j+1],x[i][j-1],x[i][j],x[i][j+1],x[i+1][j-1],x[i+1][j],x[i+1][j+1]]\n",
    "            number=0\n",
    "            for k in range(9):\n",
    "                if code[k]==\"#\":\n",
    "                    number=2*number+1\n",
    "                elif code[k]=='.':\n",
    "                    number=2*number\n",
    "            numbers.append([i,j,number])  \n",
    "    for i in range(len(numbers)):\n",
    "        image[numbers[i][0]][numbers[i][1]]=algorithm[numbers[i][2]]\n",
    "    for i in range(len(x)):\n",
    "        x[i].pop(-1)\n",
    "        x[i].pop(0)\n",
    "    x.pop(-1)\n",
    "    x.pop(0)"
   ]
  },
  {
   "cell_type": "code",
   "execution_count": 7,
   "metadata": {},
   "outputs": [],
   "source": [
    "def count(x):\n",
    "    count_pix=0\n",
    "    for i in range(len(x)):\n",
    "        for j in range(len(x)):\n",
    "            if x[i][j]=='#':\n",
    "                count_pix=count_pix+1\n",
    "    return(count_pix)"
   ]
  },
  {
   "cell_type": "code",
   "execution_count": 8,
   "metadata": {},
   "outputs": [],
   "source": [
    "resolution_1(image)"
   ]
  },
  {
   "cell_type": "code",
   "execution_count": 9,
   "metadata": {},
   "outputs": [],
   "source": [
    "resolution_2(image)"
   ]
  },
  {
   "cell_type": "code",
   "execution_count": 10,
   "metadata": {},
   "outputs": [
    {
     "data": {
      "text/plain": [
       "5275"
      ]
     },
     "execution_count": 10,
     "metadata": {},
     "output_type": "execute_result"
    }
   ],
   "source": [
    "count(image)"
   ]
  },
  {
   "cell_type": "code",
   "execution_count": 11,
   "metadata": {},
   "outputs": [],
   "source": [
    "image=[]\n",
    "with open(data,\"r\") as file1: \n",
    "        for line in file1:\n",
    "                if len(line)>=512: \n",
    "                    algorithm=line\n",
    "                elif line != \"\\n\" and len(line)<512:\n",
    "                    image.append(list(line.strip(\"\\n\")))"
   ]
  },
  {
   "cell_type": "code",
   "execution_count": 12,
   "metadata": {},
   "outputs": [],
   "source": [
    "for i in range(25):\n",
    "    resolution_1(image)\n",
    "    resolution_2(image)"
   ]
  },
  {
   "cell_type": "code",
   "execution_count": 13,
   "metadata": {},
   "outputs": [
    {
     "data": {
      "text/plain": [
       "16482"
      ]
     },
     "execution_count": 13,
     "metadata": {},
     "output_type": "execute_result"
    }
   ],
   "source": [
    "count(image)"
   ]
  },
  {
   "cell_type": "code",
   "execution_count": null,
   "metadata": {},
   "outputs": [],
   "source": []
  }
 ],
 "metadata": {
  "kernelspec": {
   "display_name": "Python 3",
   "language": "python",
   "name": "python3"
  },
  "language_info": {
   "codemirror_mode": {
    "name": "ipython",
    "version": 3
   },
   "file_extension": ".py",
   "mimetype": "text/x-python",
   "name": "python",
   "nbconvert_exporter": "python",
   "pygments_lexer": "ipython3",
   "version": "3.8.5"
  }
 },
 "nbformat": 4,
 "nbformat_minor": 4
}
