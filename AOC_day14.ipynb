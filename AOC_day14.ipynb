{
 "cells": [
  {
   "cell_type": "code",
   "execution_count": 1,
   "metadata": {},
   "outputs": [],
   "source": [
    "data=\"C:/Users/asheth13/Documents/Python_Scripts/AOC/Data_AOC_14_p1.txt\" # import data"
   ]
  },
  {
   "cell_type": "code",
   "execution_count": 2,
   "metadata": {},
   "outputs": [],
   "source": [
    "import numpy as np"
   ]
  },
  {
   "cell_type": "code",
   "execution_count": 3,
   "metadata": {},
   "outputs": [],
   "source": [
    "a=[]\n",
    "with open(data,\"r\") as file1: \n",
    "        for line in file1:\n",
    "                if \"->\" in line:\n",
    "                    line=tuple(line.strip(\"\\n\").split(\" -> \"))\n",
    "                    a.append(line)\n",
    "                elif line[0] != \"\\n\":\n",
    "                    start=line.strip(\"\\n\")"
   ]
  },
  {
   "cell_type": "code",
   "execution_count": 4,
   "metadata": {},
   "outputs": [],
   "source": [
    "for i in range(10):\n",
    "    startl=[]\n",
    "    for j in range(len(start)):\n",
    "        startl.append(start[j])\n",
    "    for i in range(len(a)):\n",
    "        res = [j for j in range(len(start)) if start.startswith(a[i][0], j)]\n",
    "        if res != []:\n",
    "            for k in res:\n",
    "                startl[k]=[a[i][0][0], a[i][1]]\n",
    "    proxy=[]\n",
    "    proxy1=str()\n",
    "    proxy=[]\n",
    "    for n in range(len(startl)):\n",
    "        if len(startl[n]) > 1:\n",
    "            for m in range(len(startl[n])):\n",
    "                proxy.append(startl[n][m])\n",
    "        else:\n",
    "            proxy.append(startl[n])\n",
    "    for m in range(len(proxy)):\n",
    "        proxy1 = proxy1+ proxy[m]\n",
    "    start=proxy1\n",
    "            \n",
    "        "
   ]
  },
  {
   "cell_type": "code",
   "execution_count": 5,
   "metadata": {},
   "outputs": [],
   "source": [
    "common=[]\n",
    "for i in range(len(a)):\n",
    "    common.append(a[i][1])\n",
    "common=set(common)"
   ]
  },
  {
   "cell_type": "code",
   "execution_count": 6,
   "metadata": {},
   "outputs": [],
   "source": [
    "total=[]\n",
    "for x in common:\n",
    "    total.append(start.count(x))"
   ]
  },
  {
   "cell_type": "code",
   "execution_count": 7,
   "metadata": {},
   "outputs": [
    {
     "data": {
      "text/plain": [
       "2068"
      ]
     },
     "execution_count": 7,
     "metadata": {},
     "output_type": "execute_result"
    }
   ],
   "source": [
    "max(total)-min(total)"
   ]
  },
  {
   "cell_type": "code",
   "execution_count": 8,
   "metadata": {},
   "outputs": [],
   "source": [
    "a=[]\n",
    "with open(data,\"r\") as file1: \n",
    "        for line in file1:\n",
    "                if \"->\" in line:\n",
    "                    line=tuple(line.strip(\"\\n\").split(\" -> \"))\n",
    "                    a.append(line)\n",
    "                elif line[0] != \"\\n\":\n",
    "                    start=line.strip(\"\\n\")"
   ]
  },
  {
   "cell_type": "code",
   "execution_count": 9,
   "metadata": {},
   "outputs": [],
   "source": [
    "b=[0]*len(a)\n",
    "for i in range(len(a)):\n",
    "    res=[0]*len(a)\n",
    "    for j in range(len(a)):\n",
    "        if (a[i][0][0]+ a[i][1]==a[j][0] or a[i][1] + a[i][0][1]==a[j][0]):\n",
    "            res[j]=1\n",
    "    b[i]=res\n",
    "b=np.asarray(b)\n",
    "\n",
    "\n",
    "start_v=[0]*(len(a))\n",
    "for i in range(len(a)):\n",
    "    for j in range(len(start)-1):\n",
    "        if start[j:j+2] == a[i][0]:\n",
    "            start_v[i] = start_v[i]+1\n",
    "\n",
    "        "
   ]
  },
  {
   "cell_type": "code",
   "execution_count": 10,
   "metadata": {},
   "outputs": [],
   "source": [
    "for i in range(40):\n",
    "    start_v1=np.asarray([0]*len(a))\n",
    "    for j in range(len(b)):\n",
    "        start_v1=start_v1+b[j]*start_v[j]\n",
    "    start_v=start_v1"
   ]
  },
  {
   "cell_type": "code",
   "execution_count": 11,
   "metadata": {},
   "outputs": [],
   "source": [
    "for i in range(len(a)):\n",
    "    if a[i][0]==start[0]+start[-1]:\n",
    "        start_v[i] = start_v[i]+1\n",
    "\n",
    "Totals=np.asarray([0]*len(common)).astype(np.int64)\n",
    "common=list(common)\n",
    "for i in range(len(common)):\n",
    "    for j in range(len(a)):\n",
    "        if a[j][0][0]==common[i]:\n",
    "            Totals[i]=Totals[i]+start_v[j]\n",
    "        if a[j][0][1]==common[i]:\n",
    "            Totals[i]=Totals[i]+start_v[j]\n",
    "Totals=Totals/2"
   ]
  },
  {
   "cell_type": "code",
   "execution_count": 12,
   "metadata": {},
   "outputs": [
    {
     "data": {
      "text/plain": [
       "5116393367.0"
      ]
     },
     "execution_count": 12,
     "metadata": {},
     "output_type": "execute_result"
    }
   ],
   "source": [
    "max(Totals)-min(Totals)"
   ]
  }
 ],
 "metadata": {
  "kernelspec": {
   "display_name": "Python 3",
   "language": "python",
   "name": "python3"
  },
  "language_info": {
   "codemirror_mode": {
    "name": "ipython",
    "version": 3
   },
   "file_extension": ".py",
   "mimetype": "text/x-python",
   "name": "python",
   "nbconvert_exporter": "python",
   "pygments_lexer": "ipython3",
   "version": "3.8.5"
  }
 },
 "nbformat": 4,
 "nbformat_minor": 4
}
