{
 "cells": [
  {
   "cell_type": "code",
   "execution_count": null,
   "metadata": {},
   "outputs": [],
   "source": [
    "--- Day 14: Extended Polymerization ---\n",
    "The incredible pressures at this depth are starting to put a strain on your submarine. The submarine has polymerization equipment that would produce suitable materials to reinforce the submarine, and the nearby volcanically-active caves should even have the necessary input elements in sufficient quantities.\n",
    "\n",
    "The submarine manual contains instructions for finding the optimal polymer formula; specifically, it offers a polymer template and a list of pair insertion rules (your puzzle input). You just need to work out what polymer would result after repeating the pair insertion process a few times.\n",
    "\n",
    "For example:\n",
    "\n",
    "NNCB\n",
    "\n",
    "CH -> B\n",
    "HH -> N\n",
    "CB -> H\n",
    "NH -> C\n",
    "HB -> C\n",
    "HC -> B\n",
    "HN -> C\n",
    "NN -> C\n",
    "BH -> H\n",
    "NC -> B\n",
    "NB -> B\n",
    "BN -> B\n",
    "BB -> N\n",
    "BC -> B\n",
    "CC -> N\n",
    "CN -> C\n",
    "The first line is the polymer template - this is the starting point of the process.\n",
    "\n",
    "The following section defines the pair insertion rules. A rule like AB -> C means that when elements A and B are immediately adjacent, element C should be inserted between them. These insertions all happen simultaneously.\n",
    "\n",
    "So, starting with the polymer template NNCB, the first step simultaneously considers all three pairs:\n",
    "\n",
    "The first pair (NN) matches the rule NN -> C, so element C is inserted between the first N and the second N.\n",
    "The second pair (NC) matches the rule NC -> B, so element B is inserted between the N and the C.\n",
    "The third pair (CB) matches the rule CB -> H, so element H is inserted between the C and the B.\n",
    "Note that these pairs overlap: the second element of one pair is the first element of the next pair. Also, because all pairs are considered simultaneously, inserted elements are not considered to be part of a pair until the next step.\n",
    "\n",
    "After the first step of this process, the polymer becomes NCNBCHB.\n",
    "\n",
    "Here are the results of a few steps using the above rules:\n",
    "\n",
    "Template:     NNCB\n",
    "After step 1: NCNBCHB\n",
    "After step 2: NBCCNBBBCBHCB\n",
    "After step 3: NBBBCNCCNBBNBNBBCHBHHBCHB\n",
    "After step 4: NBBNBNBBCCNBCNCCNBBNBBNBBBNBBNBBCBHCBHHNHCBBCBHCB\n",
    "This polymer grows quickly. After step 5, it has length 97; After step 10, it has length 3073. After step 10, B occurs 1749 times, C occurs 298 times, H occurs 161 times, and N occurs 865 times; taking the quantity of the most common element (B, 1749) and subtracting the quantity of the least common element (H, 161) produces 1749 - 161 = 1588.\n",
    "\n",
    "Apply 10 steps of pair insertion to the polymer template and find the most and least common elements in the result. What do you get if you take the quantity of the most common element and subtract the quantity of the least common element?\n",
    "\n",
    "Your puzzle answer was 2068.\n",
    "\n",
    "--- Part Two ---\n",
    "The resulting polymer isn't nearly strong enough to reinforce the submarine. You'll need to run more steps of the pair insertion process; a total of 40 steps should do it.\n",
    "\n",
    "In the above example, the most common element is B (occurring 2192039569602 times) and the least common element is H (occurring 3849876073 times); subtracting these produces 2188189693529.\n",
    "\n",
    "Apply 40 steps of pair insertion to the polymer template and find the most and least common elements in the result. What do you get if you take the quantity of the most common element and subtract the quantity of the least common element?\n",
    "\n",
    "Your puzzle answer was 2158894777814.\n",
    "\n",
    "Both parts of this puzzle are complete! They provide two gold stars: **\n",
    "\n",
    "At this point, you should return to your Advent calendar and try another puzzle.\n",
    "\n",
    "If you still want to see it, you can get your puzzle input.\n",
    "\n",
    "You can also [Share] this puzzle."
   ]
  },
  {
   "cell_type": "code",
   "execution_count": 1,
   "metadata": {},
   "outputs": [],
   "source": [
    "data=\"C:/Users/asheth13/Documents/Python_Scripts/AOC/Data_AOC_14_p1.txt\" # import data"
   ]
  },
  {
   "cell_type": "code",
   "execution_count": 2,
   "metadata": {},
   "outputs": [],
   "source": [
    "import numpy as np"
   ]
  },
  {
   "cell_type": "code",
   "execution_count": 3,
   "metadata": {},
   "outputs": [],
   "source": [
    "D=10\n",
    "a=[]\n",
    "with open(data,\"r\") as file1: \n",
    "        for line in file1:\n",
    "                if \"->\" in line:\n",
    "                    line=tuple(line.strip(\"\\n\").split(\" -> \"))\n",
    "                    a.append(line)\n",
    "                elif line[0] != \"\\n\":\n",
    "                    start=line.strip(\"\\n\")"
   ]
  },
  {
   "cell_type": "code",
   "execution_count": 4,
   "metadata": {},
   "outputs": [],
   "source": [
    "for i in range(D):\n",
    "    startl=[]\n",
    "    for j in range(len(start)):\n",
    "        startl.append(start[j])\n",
    "    for i in range(len(a)):\n",
    "        res = [j for j in range(len(start)) if start.startswith(a[i][0], j)]\n",
    "        if res != []:\n",
    "            for k in res:\n",
    "                startl[k]=[a[i][0][0], a[i][1]]\n",
    "    proxy=[]\n",
    "    proxy1=str()\n",
    "    proxy=[]\n",
    "    for n in range(len(startl)):\n",
    "        if len(startl[n]) > 1:\n",
    "            for m in range(len(startl[n])):\n",
    "                proxy.append(startl[n][m])\n",
    "        else:\n",
    "            proxy.append(startl[n])\n",
    "    for m in range(len(proxy)):\n",
    "        proxy1 = proxy1+ proxy[m]\n",
    "    start=proxy1\n",
    "            \n",
    "        "
   ]
  },
  {
   "cell_type": "code",
   "execution_count": 5,
   "metadata": {},
   "outputs": [],
   "source": [
    "common=[]\n",
    "for i in range(len(a)):\n",
    "    common.append(a[i][1])\n",
    "common=set(common)"
   ]
  },
  {
   "cell_type": "code",
   "execution_count": 6,
   "metadata": {},
   "outputs": [],
   "source": [
    "total=[]\n",
    "for x in common:\n",
    "    total.append(start.count(x))"
   ]
  },
  {
   "cell_type": "code",
   "execution_count": 7,
   "metadata": {},
   "outputs": [
    {
     "data": {
      "text/plain": [
       "2068"
      ]
     },
     "execution_count": 7,
     "metadata": {},
     "output_type": "execute_result"
    }
   ],
   "source": [
    "max(total)-min(total)"
   ]
  },
  {
   "cell_type": "code",
   "execution_count": 8,
   "metadata": {},
   "outputs": [],
   "source": [
    "a=[]\n",
    "with open(data,\"r\") as file1: \n",
    "        for line in file1:\n",
    "                if \"->\" in line:\n",
    "                    line=tuple(line.strip(\"\\n\").split(\" -> \"))\n",
    "                    a.append(line)\n",
    "                elif line[0] != \"\\n\":\n",
    "                    start=line.strip(\"\\n\")"
   ]
  },
  {
   "cell_type": "code",
   "execution_count": 9,
   "metadata": {},
   "outputs": [],
   "source": [
    "b=[0]*len(a)\n",
    "for i in range(len(a)):\n",
    "    res=[0]*len(a)\n",
    "    for j in range(len(a)):\n",
    "        if (a[i][0][0]+ a[i][1]==a[j][0] or a[i][1] + a[i][0][1]==a[j][0]):\n",
    "            res[j]=1\n",
    "    b[i]=res\n",
    "b=np.asarray(b)\n",
    "\n",
    "\n",
    "start_v=np.asarray([0]*(len(a))).astype(np.int64)\n",
    "for i in range(len(a)):\n",
    "    for j in range(len(start)-1):\n",
    "        if start[j:j+2] == a[i][0]:\n",
    "            start_v[i] = start_v[i]+1\n",
    "\n",
    "        "
   ]
  },
  {
   "cell_type": "code",
   "execution_count": 10,
   "metadata": {},
   "outputs": [],
   "source": [
    "for i in range(40):\n",
    "    start_v1=np.asarray([0]*len(a)).astype(np.int64)\n",
    "    for j in range(len(b)):\n",
    "        start_v1=start_v1+b[j]*start_v[j]\n",
    "    start_v=np.asarray(start_v1).astype(np.int64)"
   ]
  },
  {
   "cell_type": "code",
   "execution_count": 11,
   "metadata": {},
   "outputs": [],
   "source": [
    "for i in range(len(a)):\n",
    "    if a[i][0]==start[0]+start[-1]:\n",
    "        start_v[i] = start_v[i]+1\n",
    "\n",
    "Totals=np.asarray([0]*len(common)).astype(np.int64)\n",
    "common=list(common)\n",
    "for i in range(len(common)):\n",
    "    for j in range(len(a)):\n",
    "        if a[j][0][0]==common[i]:\n",
    "            Totals[i]=Totals[i]+start_v[j]\n",
    "        if a[j][0][1]==common[i]:\n",
    "            Totals[i]=Totals[i]+start_v[j]\n",
    "Totals=Totals/2"
   ]
  },
  {
   "cell_type": "code",
   "execution_count": 12,
   "metadata": {},
   "outputs": [
    {
     "data": {
      "text/plain": [
       "2158894777814.0"
      ]
     },
     "execution_count": 12,
     "metadata": {},
     "output_type": "execute_result"
    }
   ],
   "source": [
    "max(Totals)-min(Totals)"
   ]
  }
 ],
 "metadata": {
  "kernelspec": {
   "display_name": "Python 3",
   "language": "python",
   "name": "python3"
  },
  "language_info": {
   "codemirror_mode": {
    "name": "ipython",
    "version": 3
   },
   "file_extension": ".py",
   "mimetype": "text/x-python",
   "name": "python",
   "nbconvert_exporter": "python",
   "pygments_lexer": "ipython3",
   "version": "3.8.5"
  }
 },
 "nbformat": 4,
 "nbformat_minor": 4
}
