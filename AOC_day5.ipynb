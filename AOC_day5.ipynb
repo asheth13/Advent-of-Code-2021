{
 "cells": [
  {
   "cell_type": "code",
   "execution_count": null,
   "metadata": {},
   "outputs": [],
   "source": [
    "--- Day 5: Hydrothermal Venture ---\n",
    "You come across a field of hydrothermal vents on the ocean floor! These vents constantly produce large, opaque clouds, so it would be best to avoid them if possible.\n",
    "\n",
    "They tend to form in lines; the submarine helpfully produces a list of nearby lines of vents (your puzzle input) for you to review. For example:\n",
    "\n",
    "0,9 -> 5,9\n",
    "8,0 -> 0,8\n",
    "9,4 -> 3,4\n",
    "2,2 -> 2,1\n",
    "7,0 -> 7,4\n",
    "6,4 -> 2,0\n",
    "0,9 -> 2,9\n",
    "3,4 -> 1,4\n",
    "0,0 -> 8,8\n",
    "5,5 -> 8,2\n",
    "Each line of vents is given as a line segment in the format x1,y1 -> x2,y2 where x1,y1 are the coordinates of one end the line segment and x2,y2 are the coordinates of the other end. These line segments include the points at both ends. In other words:\n",
    "\n",
    "An entry like 1,1 -> 1,3 covers points 1,1, 1,2, and 1,3.\n",
    "An entry like 9,7 -> 7,7 covers points 9,7, 8,7, and 7,7.\n",
    "For now, only consider horizontal and vertical lines: lines where either x1 = x2 or y1 = y2.\n",
    "\n",
    "So, the horizontal and vertical lines from the above list would produce the following diagram:\n",
    "\n",
    ".......1..\n",
    "..1....1..\n",
    "..1....1..\n",
    ".......1..\n",
    ".112111211\n",
    "..........\n",
    "..........\n",
    "..........\n",
    "..........\n",
    "222111....\n",
    "In this diagram, the top left corner is 0,0 and the bottom right corner is 9,9. Each position is shown as the number of lines which cover that point or . if no line covers that point. The top-left pair of 1s, for example, comes from 2,2 -> 2,1; the very bottom row is formed by the overlapping lines 0,9 -> 5,9 and 0,9 -> 2,9.\n",
    "\n",
    "To avoid the most dangerous areas, you need to determine the number of points where at least two lines overlap. In the above example, this is anywhere in the diagram with a 2 or larger - a total of 5 points.\n",
    "\n",
    "Consider only horizontal and vertical lines. At how many points do at least two lines overlap?\n",
    "\n",
    "Your puzzle answer was 6687.\n",
    "\n",
    "--- Part Two ---\n",
    "Unfortunately, considering only horizontal and vertical lines doesn't give you the full picture; you need to also consider diagonal lines.\n",
    "\n",
    "Because of the limits of the hydrothermal vent mapping system, the lines in your list will only ever be horizontal, vertical, or a diagonal line at exactly 45 degrees. In other words:\n",
    "\n",
    "An entry like 1,1 -> 3,3 covers points 1,1, 2,2, and 3,3.\n",
    "An entry like 9,7 -> 7,9 covers points 9,7, 8,8, and 7,9.\n",
    "Considering all lines from the above example would now produce the following diagram:\n",
    "\n",
    "1.1....11.\n",
    ".111...2..\n",
    "..2.1.111.\n",
    "...1.2.2..\n",
    ".112313211\n",
    "...1.2....\n",
    "..1...1...\n",
    ".1.....1..\n",
    "1.......1.\n",
    "222111....\n",
    "You still need to determine the number of points where at least two lines overlap. In the above example, this is still anywhere in the diagram with a 2 or larger - now a total of 12 points.\n",
    "\n",
    "Consider all of the lines. At how many points do at least two lines overlap?\n",
    "\n",
    "Your puzzle answer was 19851.\n",
    "\n",
    "Both parts of this puzzle are complete! They provide two gold stars: **\n",
    "\n",
    "At this point, you should return to your Advent calendar and try another puzzle.\n",
    "\n",
    "If you still want to see it, you can get your puzzle input.\n",
    "\n",
    "You can also [Share] this puzzle."
   ]
  },
  {
   "cell_type": "code",
   "execution_count": 1,
   "metadata": {},
   "outputs": [],
   "source": [
    "data=\"C:/Users/asheth13/Documents/Python_Scripts/AOC/Data_AOC_5_p1.txt\" # import data"
   ]
  },
  {
   "cell_type": "code",
   "execution_count": 2,
   "metadata": {},
   "outputs": [],
   "source": [
    "import numpy as np # ability to use arrays"
   ]
  },
  {
   "cell_type": "code",
   "execution_count": 3,
   "metadata": {},
   "outputs": [],
   "source": [
    "a=np.asarray([])\n",
    "with open(data,\"r\") as file1: \n",
    "        for line in file1:\n",
    "                a=np.append(a,line.replace(\" -> \",\",\").split())"
   ]
  },
  {
   "cell_type": "code",
   "execution_count": 4,
   "metadata": {},
   "outputs": [],
   "source": [
    "i=0\n",
    "v=[]\n",
    "points=[]\n",
    "c=np.asarray([])\n",
    "while i < len(a):\n",
    "    c=a[i].split(\",\")\n",
    "    if c[0] == c[2]:\n",
    "        k=abs(int(c[3])-int(c[1]))\n",
    "        j=0\n",
    "        while j <= k:\n",
    "            d=(int(c[0]),min(int(c[1]),int(c[3]))+j)\n",
    "            if d in v:\n",
    "                points.append(d)\n",
    "            else: \n",
    "                v.append(d)\n",
    "            j=j+1  \n",
    "    if c[1] == c[3]:\n",
    "        k=abs(int(c[2])-int(c[0]))\n",
    "        j=0\n",
    "        while j <= k:\n",
    "            d=(min(int(c[0]),int(c[2]))+j, int(c[1]))\n",
    "            if d in v:\n",
    "                points.append(d)\n",
    "            else: \n",
    "                v.append(d)\n",
    "            j=j+1    \n",
    "    i=i+1"
   ]
  },
  {
   "cell_type": "code",
   "execution_count": 5,
   "metadata": {},
   "outputs": [],
   "source": [
    "points_u=[]\n",
    "i=0\n",
    "while i < len(points):\n",
    "    if points_u.count(points[i])==0:\n",
    "        points_u.insert(0,points[i])\n",
    "    i=i+1"
   ]
  },
  {
   "cell_type": "code",
   "execution_count": 6,
   "metadata": {},
   "outputs": [
    {
     "data": {
      "text/plain": [
       "6687"
      ]
     },
     "execution_count": 6,
     "metadata": {},
     "output_type": "execute_result"
    }
   ],
   "source": [
    "len(points_u)"
   ]
  },
  {
   "cell_type": "code",
   "execution_count": 7,
   "metadata": {},
   "outputs": [],
   "source": [
    "i=0\n",
    "while i < len(a):\n",
    "    c=a[i].split(\",\")\n",
    "    if c[0] != c[2] and c[1] !=c[3]:\n",
    "        if int(c[2])-int(c[0])==int(c[3])-int(c[1]):\n",
    "            k=abs(int(c[3])-int(c[1]))\n",
    "            j=0\n",
    "            while j <= k:\n",
    "                d=(min(int(c[0]),int(c[2]))+j,min(int(c[1]),int(c[3]))+j)\n",
    "                if d in v:\n",
    "                    points.append(d)\n",
    "                else: \n",
    "                    v.append(d)\n",
    "                j=j+1  \n",
    "        if int(c[2])-int(c[0])==-1*(int(c[3])-int(c[1])):\n",
    "            k=abs(int(c[3])-int(c[1]))\n",
    "            j=0\n",
    "            while j <= k:\n",
    "                d=(min(int(c[0]),int(c[2]))+j,max(int(c[1]),int(c[3]))-j)\n",
    "                if d in v:\n",
    "                    points.append(d)\n",
    "                else: \n",
    "                    v.append(d)\n",
    "                j=j+1    \n",
    "    i=i+1"
   ]
  },
  {
   "cell_type": "code",
   "execution_count": 8,
   "metadata": {},
   "outputs": [],
   "source": [
    "i=0\n",
    "while i < len(points):\n",
    "    if points_u.count(points[i])==0:\n",
    "        points_u.insert(0,points[i])\n",
    "    i=i+1"
   ]
  },
  {
   "cell_type": "code",
   "execution_count": 9,
   "metadata": {},
   "outputs": [
    {
     "data": {
      "text/plain": [
       "19851"
      ]
     },
     "execution_count": 9,
     "metadata": {},
     "output_type": "execute_result"
    }
   ],
   "source": [
    "len(points_u)"
   ]
  },
  {
   "cell_type": "code",
   "execution_count": null,
   "metadata": {},
   "outputs": [],
   "source": []
  }
 ],
 "metadata": {
  "kernelspec": {
   "display_name": "Python 3",
   "language": "python",
   "name": "python3"
  },
  "language_info": {
   "codemirror_mode": {
    "name": "ipython",
    "version": 3
   },
   "file_extension": ".py",
   "mimetype": "text/x-python",
   "name": "python",
   "nbconvert_exporter": "python",
   "pygments_lexer": "ipython3",
   "version": "3.8.5"
  }
 },
 "nbformat": 4,
 "nbformat_minor": 4
}
