{
 "cells": [
  {
   "cell_type": "code",
   "execution_count": null,
   "metadata": {},
   "outputs": [],
   "source": [
    "--- Day 4: Giant Squid ---\n",
    "You're already almost 1.5km (almost a mile) below the surface of the ocean, already so deep that you can't see any sunlight. What you can see, however, is a giant squid that has attached itself to the outside of your submarine.\n",
    "\n",
    "Maybe it wants to play bingo?\n",
    "\n",
    "Bingo is played on a set of boards each consisting of a 5x5 grid of numbers. Numbers are chosen at random, and the chosen number is marked on all boards on which it appears. (Numbers may not appear on all boards.) If all numbers in any row or any column of a board are marked, that board wins. (Diagonals don't count.)\n",
    "\n",
    "The submarine has a bingo subsystem to help passengers (currently, you and the giant squid) pass the time. It automatically generates a random order in which to draw numbers and a random set of boards (your puzzle input). For example:\n",
    "\n",
    "7,4,9,5,11,17,23,2,0,14,21,24,10,16,13,6,15,25,12,22,18,20,8,19,3,26,1\n",
    "\n",
    "22 13 17 11  0\n",
    " 8  2 23  4 24\n",
    "21  9 14 16  7\n",
    " 6 10  3 18  5\n",
    " 1 12 20 15 19\n",
    "\n",
    " 3 15  0  2 22\n",
    " 9 18 13 17  5\n",
    "19  8  7 25 23\n",
    "20 11 10 24  4\n",
    "14 21 16 12  6\n",
    "\n",
    "14 21 17 24  4\n",
    "10 16 15  9 19\n",
    "18  8 23 26 20\n",
    "22 11 13  6  5\n",
    " 2  0 12  3  7\n",
    "After the first five numbers are drawn (7, 4, 9, 5, and 11), there are no winners, but the boards are marked as follows (shown here adjacent to each other to save space):\n",
    "\n",
    "22 13 17 11  0         3 15  0  2 22        14 21 17 24  4\n",
    " 8  2 23  4 24         9 18 13 17  5        10 16 15  9 19\n",
    "21  9 14 16  7        19  8  7 25 23        18  8 23 26 20\n",
    " 6 10  3 18  5        20 11 10 24  4        22 11 13  6  5\n",
    " 1 12 20 15 19        14 21 16 12  6         2  0 12  3  7\n",
    "After the next six numbers are drawn (17, 23, 2, 0, 14, and 21), there are still no winners:\n",
    "\n",
    "22 13 17 11  0         3 15  0  2 22        14 21 17 24  4\n",
    " 8  2 23  4 24         9 18 13 17  5        10 16 15  9 19\n",
    "21  9 14 16  7        19  8  7 25 23        18  8 23 26 20\n",
    " 6 10  3 18  5        20 11 10 24  4        22 11 13  6  5\n",
    " 1 12 20 15 19        14 21 16 12  6         2  0 12  3  7\n",
    "Finally, 24 is drawn:\n",
    "\n",
    "22 13 17 11  0         3 15  0  2 22        14 21 17 24  4\n",
    " 8  2 23  4 24         9 18 13 17  5        10 16 15  9 19\n",
    "21  9 14 16  7        19  8  7 25 23        18  8 23 26 20\n",
    " 6 10  3 18  5        20 11 10 24  4        22 11 13  6  5\n",
    " 1 12 20 15 19        14 21 16 12  6         2  0 12  3  7\n",
    "At this point, the third board wins because it has at least one complete row or column of marked numbers (in this case, the entire top row is marked: 14 21 17 24 4).\n",
    "\n",
    "The score of the winning board can now be calculated. Start by finding the sum of all unmarked numbers on that board; in this case, the sum is 188. Then, multiply that sum by the number that was just called when the board won, 24, to get the final score, 188 * 24 = 4512.\n",
    "\n",
    "To guarantee victory against the giant squid, figure out which board will win first. What will your final score be if you choose that board?\n",
    "\n",
    "Your puzzle answer was 16674.\n",
    "\n",
    "--- Part Two ---\n",
    "On the other hand, it might be wise to try a different strategy: let the giant squid win.\n",
    "\n",
    "You aren't sure how many bingo boards a giant squid could play at once, so rather than waste time counting its arms, the safe thing to do is to figure out which board will win last and choose that one. That way, no matter which boards it picks, it will win for sure.\n",
    "\n",
    "In the above example, the second board is the last to win, which happens after 13 is eventually called and its middle column is completely marked. If you were to keep playing until this point, the second board would have a sum of unmarked numbers equal to 148 for a final score of 148 * 13 = 1924.\n",
    "\n",
    "Figure out which board will win last. Once it wins, what would its final score be?\n",
    "\n",
    "Your puzzle answer was 7075.\n",
    "\n",
    "Both parts of this puzzle are complete! They provide two gold stars: **\n",
    "\n",
    "At this point, you should return to your Advent calendar and try another puzzle.\n",
    "\n",
    "If you still want to see it, you can get your puzzle input.\n",
    "\n",
    "You can also [Share] this puzzle."
   ]
  },
  {
   "cell_type": "code",
   "execution_count": 1,
   "metadata": {},
   "outputs": [],
   "source": [
    "data=\"C:/Users/asheth13/Documents/Python_Scripts/AOC/Data_AOC_4_p1.txt\" # import data"
   ]
  },
  {
   "cell_type": "code",
   "execution_count": 2,
   "metadata": {},
   "outputs": [],
   "source": [
    "import numpy as np # ability to use arrays"
   ]
  },
  {
   "cell_type": "code",
   "execution_count": 3,
   "metadata": {},
   "outputs": [],
   "source": [
    "import math as m"
   ]
  },
  {
   "cell_type": "code",
   "execution_count": 4,
   "metadata": {},
   "outputs": [],
   "source": [
    "calls=[42,44,71,26,70,92,77,45,6,18,79,54,31,34,64,32,16,55,81,11,90,10,21,87,0,84,8,23,1,12,60,20,57,68,61,82,49,59,22,2,63,33,50,39,28,30,88,41,69,72,98,73,7,65,53,35,96,67,36,4,51,75,24,86,97,85,66,29,74,40,93,58,9,62,95,91,80,99,14,19,43,37,27,56,94,25,83,48,17,38,78,15,52,76,5,13,46,89,47,3]"
   ]
  },
  {
   "cell_type": "code",
   "execution_count": 5,
   "metadata": {},
   "outputs": [],
   "source": [
    "A=np.asarray([])\n",
    "B=[]\n",
    "with open(data,\"r\") as file1: \n",
    "        for line in file1:\n",
    "            if line != \"\\n\":\n",
    "                a = np.asarray([line.replace(\"\\n\",\"\").split()])\n",
    "                A =np.append(A,a)\n",
    "            else:    \n",
    "                B.append(A)\n",
    "                A=np.asarray([])"
   ]
  },
  {
   "cell_type": "code",
   "execution_count": 6,
   "metadata": {},
   "outputs": [],
   "source": [
    "def row(i,j):\n",
    "    return B[i][5*j:5*(j+1)]"
   ]
  },
  {
   "cell_type": "code",
   "execution_count": 7,
   "metadata": {},
   "outputs": [],
   "source": [
    "def column(i,j):\n",
    "    return np.asarray([B[i][0+j],B[i][5+j],B[i][10+j],B[i][15+j],B[i][20+j]])"
   ]
  },
  {
   "cell_type": "code",
   "execution_count": 8,
   "metadata": {},
   "outputs": [],
   "source": [
    "def callnum(i,a):\n",
    "    B[i][np.where(B[i] == str(a)) ] = 'X'"
   ]
  },
  {
   "cell_type": "code",
   "execution_count": 9,
   "metadata": {},
   "outputs": [],
   "source": [
    "win = np.asarray(['X','X','X','X','X'])"
   ]
  },
  {
   "cell_type": "code",
   "execution_count": 10,
   "metadata": {},
   "outputs": [],
   "source": [
    "def res(j):\n",
    "    res=sum(bool(np.array_equal(row(j,i),win)==True or np.array_equal(column(j,i),win)==True  ) for i in [0,1,2,3,4])\n",
    "    return res    "
   ]
  },
  {
   "cell_type": "code",
   "execution_count": 11,
   "metadata": {},
   "outputs": [],
   "source": [
    "Board=0\n",
    "c=0\n",
    "W=np.asarray([])\n",
    "while Board < len(B):\n",
    "    callnum(Board,calls[c])   \n",
    "    if res(Board) == 0:\n",
    "           c=c+1\n",
    "    else:\n",
    "        W=np.append(W,c)\n",
    "        Board=Board+1\n",
    "        c=0"
   ]
  },
  {
   "cell_type": "code",
   "execution_count": 13,
   "metadata": {},
   "outputs": [],
   "source": [
    "B[np.argmin(W)][np.where(B[np.argmin(W)] == 'X') ] = 0"
   ]
  },
  {
   "cell_type": "code",
   "execution_count": 14,
   "metadata": {},
   "outputs": [],
   "source": [
    "B[np.argmin(W)]=B[np.argmin(W)].astype(np.float)"
   ]
  },
  {
   "cell_type": "code",
   "execution_count": 15,
   "metadata": {},
   "outputs": [
    {
     "data": {
      "text/plain": [
       "16674.0"
      ]
     },
     "execution_count": 15,
     "metadata": {},
     "output_type": "execute_result"
    }
   ],
   "source": [
    "np.sum(B[np.argmin(W)])*calls[int(np.min(W))]"
   ]
  },
  {
   "cell_type": "code",
   "execution_count": 16,
   "metadata": {},
   "outputs": [],
   "source": [
    "B[np.argmax(W)][np.where(B[np.argmax(W)] == 'X') ] = 0"
   ]
  },
  {
   "cell_type": "code",
   "execution_count": 17,
   "metadata": {},
   "outputs": [],
   "source": [
    "B[np.argmax(W)]=B[np.argmax(W)].astype(np.float)"
   ]
  },
  {
   "cell_type": "code",
   "execution_count": 18,
   "metadata": {},
   "outputs": [
    {
     "data": {
      "text/plain": [
       "7075.0"
      ]
     },
     "execution_count": 18,
     "metadata": {},
     "output_type": "execute_result"
    }
   ],
   "source": [
    "np.sum(B[np.argmax(W)])*calls[int(np.max(W))]"
   ]
  },
  {
   "cell_type": "code",
   "execution_count": null,
   "metadata": {},
   "outputs": [],
   "source": []
  }
 ],
 "metadata": {
  "kernelspec": {
   "display_name": "Python 3",
   "language": "python",
   "name": "python3"
  },
  "language_info": {
   "codemirror_mode": {
    "name": "ipython",
    "version": 3
   },
   "file_extension": ".py",
   "mimetype": "text/x-python",
   "name": "python",
   "nbconvert_exporter": "python",
   "pygments_lexer": "ipython3",
   "version": "3.8.5"
  }
 },
 "nbformat": 4,
 "nbformat_minor": 4
}
