{
 "cells": [
  {
   "cell_type": "code",
   "execution_count": null,
   "metadata": {},
   "outputs": [],
   "source": [
    "--- Day 13: Transparent Origami ---\n",
    "You reach another volcanically active part of the cave. It would be nice if you could do some kind of thermal imaging so you could tell ahead of time which caves are too hot to safely enter.\n",
    "\n",
    "Fortunately, the submarine seems to be equipped with a thermal camera! When you activate it, you are greeted with:\n",
    "\n",
    "Congratulations on your purchase! To activate this infrared thermal imaging\n",
    "camera system, please enter the code found on page 1 of the manual.\n",
    "Apparently, the Elves have never used this feature. To your surprise, you manage to find the manual; as you go to open it, page 1 falls out. It's a large sheet of transparent paper! The transparent paper is marked with random dots and includes instructions on how to fold it up (your puzzle input). For example:\n",
    "\n",
    "6,10\n",
    "0,14\n",
    "9,10\n",
    "0,3\n",
    "10,4\n",
    "4,11\n",
    "6,0\n",
    "6,12\n",
    "4,1\n",
    "0,13\n",
    "10,12\n",
    "3,4\n",
    "3,0\n",
    "8,4\n",
    "1,10\n",
    "2,14\n",
    "8,10\n",
    "9,0\n",
    "\n",
    "fold along y=7\n",
    "fold along x=5\n",
    "The first section is a list of dots on the transparent paper. 0,0 represents the top-left coordinate. The first value, x, increases to the right. The second value, y, increases downward. So, the coordinate 3,0 is to the right of 0,0, and the coordinate 0,7 is below 0,0. The coordinates in this example form the following pattern, where # is a dot on the paper and . is an empty, unmarked position:\n",
    "\n",
    "...#..#..#.\n",
    "....#......\n",
    "...........\n",
    "#..........\n",
    "...#....#.#\n",
    "...........\n",
    "...........\n",
    "...........\n",
    "...........\n",
    "...........\n",
    ".#....#.##.\n",
    "....#......\n",
    "......#...#\n",
    "#..........\n",
    "#.#........\n",
    "Then, there is a list of fold instructions. Each instruction indicates a line on the transparent paper and wants you to fold the paper up (for horizontal y=... lines) or left (for vertical x=... lines). In this example, the first fold instruction is fold along y=7, which designates the line formed by all of the positions where y is 7 (marked here with -):\n",
    "\n",
    "...#..#..#.\n",
    "....#......\n",
    "...........\n",
    "#..........\n",
    "...#....#.#\n",
    "...........\n",
    "...........\n",
    "-----------\n",
    "...........\n",
    "...........\n",
    ".#....#.##.\n",
    "....#......\n",
    "......#...#\n",
    "#..........\n",
    "#.#........\n",
    "Because this is a horizontal line, fold the bottom half up. Some of the dots might end up overlapping after the fold is complete, but dots will never appear exactly on a fold line. The result of doing this fold looks like this:\n",
    "\n",
    "#.##..#..#.\n",
    "#...#......\n",
    "......#...#\n",
    "#...#......\n",
    ".#.#..#.###\n",
    "...........\n",
    "...........\n",
    "Now, only 17 dots are visible.\n",
    "\n",
    "Notice, for example, the two dots in the bottom left corner before the transparent paper is folded; after the fold is complete, those dots appear in the top left corner (at 0,0 and 0,1). Because the paper is transparent, the dot just below them in the result (at 0,3) remains visible, as it can be seen through the transparent paper.\n",
    "\n",
    "Also notice that some dots can end up overlapping; in this case, the dots merge together and become a single dot.\n",
    "\n",
    "The second fold instruction is fold along x=5, which indicates this line:\n",
    "\n",
    "#.##.|#..#.\n",
    "#...#|.....\n",
    ".....|#...#\n",
    "#...#|.....\n",
    ".#.#.|#.###\n",
    ".....|.....\n",
    ".....|.....\n",
    "Because this is a vertical line, fold left:\n",
    "\n",
    "#####\n",
    "#...#\n",
    "#...#\n",
    "#...#\n",
    "#####\n",
    ".....\n",
    ".....\n",
    "The instructions made a square!\n",
    "\n",
    "The transparent paper is pretty big, so for now, focus on just completing the first fold. After the first fold in the example above, 17 dots are visible - dots that end up overlapping after the fold is completed count as a single dot.\n",
    "\n",
    "How many dots are visible after completing just the first fold instruction on your transparent paper?\n",
    "\n",
    "Your puzzle answer was 666.\n",
    "\n",
    "--- Part Two ---\n",
    "Finish folding the transparent paper according to the instructions. The manual says the code is always eight capital letters.\n",
    "\n",
    "What code do you use to activate the infrared thermal imaging camera system?\n",
    "\n",
    "Your puzzle answer was CJHAZHKU.\n",
    "\n",
    "Both parts of this puzzle are complete! They provide two gold stars: **\n",
    "\n",
    "At this point, you should return to your Advent calendar and try another puzzle.\n",
    "\n",
    "If you still want to see it, you can get your puzzle input.\n",
    "\n",
    "You can also [Share] this puzzle."
   ]
  },
  {
   "cell_type": "code",
   "execution_count": 1,
   "metadata": {},
   "outputs": [],
   "source": [
    "data=\"C:/Users/asheth13/Documents/Python_Scripts/AOC/Data_AOC_13_p1.txt\" # import data"
   ]
  },
  {
   "cell_type": "code",
   "execution_count": 2,
   "metadata": {},
   "outputs": [],
   "source": [
    "import matplotlib.pyplot as plt"
   ]
  },
  {
   "cell_type": "code",
   "execution_count": 3,
   "metadata": {},
   "outputs": [],
   "source": [
    "import numpy as np # ability to use arrays"
   ]
  },
  {
   "cell_type": "code",
   "execution_count": 4,
   "metadata": {},
   "outputs": [],
   "source": [
    "a=[]\n",
    "fold=[]\n",
    "with open(data,\"r\") as file1: \n",
    "        for line in file1:\n",
    "            if line[0] != \"f\" and line[0] != \"\\n\":\n",
    "                line=line.strip(\"\\n\").split(\",\")\n",
    "                a.append(line)\n",
    "            elif line[0] == \"f\":\n",
    "                line=line[11:].strip(\"\\n\").split(\"=\")\n",
    "                fold.append(line)"
   ]
  },
  {
   "cell_type": "code",
   "execution_count": 5,
   "metadata": {},
   "outputs": [],
   "source": [
    "for i in range(len(fold)):\n",
    "    fold[i][1]=int(fold[i][1])"
   ]
  },
  {
   "cell_type": "code",
   "execution_count": 6,
   "metadata": {},
   "outputs": [],
   "source": [
    "a=np.asarray(a)"
   ]
  },
  {
   "cell_type": "code",
   "execution_count": 7,
   "metadata": {},
   "outputs": [],
   "source": [
    "a=a.astype(np.int)"
   ]
  },
  {
   "cell_type": "code",
   "execution_count": 8,
   "metadata": {},
   "outputs": [],
   "source": [
    "if fold[0][0]==\"x\":\n",
    "    for i in range(len(a)):\n",
    "        if a[i][0] > fold[0][1]:\n",
    "            a[i][0]=fold[0][1]-(a[i][0]-fold[0][1])\n",
    "elif fold[0][0]==\"y\":\n",
    "    for i in range(len(a)):\n",
    "        if a[i][1] > fold[0][1]:\n",
    "            a[i][1]=fold[0][1]-(a[i][1]-fold[0][1])\n",
    "    "
   ]
  },
  {
   "cell_type": "code",
   "execution_count": 9,
   "metadata": {},
   "outputs": [],
   "source": [
    "b=[]\n",
    "for i in range(len(a)):\n",
    "    b.append((a[i][0],a[i][1]))"
   ]
  },
  {
   "cell_type": "code",
   "execution_count": 10,
   "metadata": {},
   "outputs": [
    {
     "data": {
      "text/plain": [
       "666"
      ]
     },
     "execution_count": 10,
     "metadata": {},
     "output_type": "execute_result"
    }
   ],
   "source": [
    "len(set(b))"
   ]
  },
  {
   "cell_type": "code",
   "execution_count": 11,
   "metadata": {},
   "outputs": [],
   "source": [
    "for j in range(1,len(fold)):\n",
    "    if fold[j][0]==\"x\":\n",
    "        for i in range(len(a)):\n",
    "            if a[i][0] > fold[j][1]:\n",
    "                a[i][0]=fold[j][1]-(a[i][0]-fold[j][1])\n",
    "    elif fold[j][0]==\"y\":\n",
    "        for i in range(len(a)):\n",
    "            if a[i][1] > fold[j][1]:\n",
    "                a[i][1]=fold[j][1]-(a[i][1]-fold[j][1])"
   ]
  },
  {
   "cell_type": "code",
   "execution_count": 12,
   "metadata": {},
   "outputs": [],
   "source": [
    "b=[]\n",
    "for i in range(len(a)):\n",
    "    b.append((a[i][0],a[i][1]))"
   ]
  },
  {
   "cell_type": "code",
   "execution_count": 13,
   "metadata": {},
   "outputs": [],
   "source": [
    "b=set(b)"
   ]
  },
  {
   "cell_type": "code",
   "execution_count": 14,
   "metadata": {},
   "outputs": [],
   "source": [
    "b=list(b)"
   ]
  },
  {
   "cell_type": "code",
   "execution_count": 15,
   "metadata": {},
   "outputs": [],
   "source": [
    "x=[]\n",
    "y=[]\n",
    "for i in range(len(b)):\n",
    "    x.append(b[i][0])\n",
    "    y.append(-1*b[i][1])    "
   ]
  },
  {
   "cell_type": "code",
   "execution_count": 21,
   "metadata": {},
   "outputs": [
    {
     "data": {
      "text/plain": [
       "[(28, 3),\n",
       " (17, 3),\n",
       " (8, 0),\n",
       " (30, 0),\n",
       " (32, 3),\n",
       " (15, 5),\n",
       " (18, 1),\n",
       " (21, 0),\n",
       " (28, 5),\n",
       " (8, 2),\n",
       " (30, 2),\n",
       " (35, 1),\n",
       " (38, 0),\n",
       " (13, 1),\n",
       " (18, 3),\n",
       " (30, 4),\n",
       " (8, 4),\n",
       " (35, 3),\n",
       " (13, 3),\n",
       " (38, 2),\n",
       " (7, 5),\n",
       " (18, 5),\n",
       " (22, 5),\n",
       " (3, 1),\n",
       " (28, 0),\n",
       " (17, 0),\n",
       " (11, 2),\n",
       " (0, 2),\n",
       " (13, 5),\n",
       " (38, 4),\n",
       " (25, 4),\n",
       " (15, 2),\n",
       " (26, 2),\n",
       " (37, 5),\n",
       " (28, 2),\n",
       " (1, 5),\n",
       " (15, 4),\n",
       " (16, 3),\n",
       " (7, 0),\n",
       " (22, 0),\n",
       " (28, 4),\n",
       " (32, 4),\n",
       " (10, 1),\n",
       " (35, 0),\n",
       " (13, 0),\n",
       " (18, 2),\n",
       " (20, 5),\n",
       " (22, 2),\n",
       " (23, 1),\n",
       " (5, 4),\n",
       " (33, 5),\n",
       " (10, 3),\n",
       " (13, 2),\n",
       " (35, 2),\n",
       " (1, 0),\n",
       " (25, 1),\n",
       " (18, 4),\n",
       " (10, 5),\n",
       " (35, 4),\n",
       " (13, 4),\n",
       " (0, 4),\n",
       " (25, 3),\n",
       " (16, 0),\n",
       " (20, 0),\n",
       " (23, 5),\n",
       " (32, 1),\n",
       " (30, 1),\n",
       " (8, 1),\n",
       " (33, 0),\n",
       " (25, 5),\n",
       " (31, 2),\n",
       " (3, 4),\n",
       " (8, 3),\n",
       " (30, 3),\n",
       " (10, 0),\n",
       " (2, 5),\n",
       " (38, 1),\n",
       " (6, 5),\n",
       " (20, 4),\n",
       " (21, 3),\n",
       " (23, 0),\n",
       " (30, 5),\n",
       " (10, 2),\n",
       " (0, 1),\n",
       " (25, 0),\n",
       " (15, 1),\n",
       " (38, 3),\n",
       " (21, 5),\n",
       " (12, 2),\n",
       " (36, 5),\n",
       " (27, 2),\n",
       " (28, 1),\n",
       " (10, 4),\n",
       " (0, 3),\n",
       " (2, 0),\n",
       " (25, 2),\n",
       " (15, 3)]"
      ]
     },
     "execution_count": 21,
     "metadata": {},
     "output_type": "execute_result"
    }
   ],
   "source": [
    "b"
   ]
  },
  {
   "cell_type": "code",
   "execution_count": null,
   "metadata": {},
   "outputs": [],
   "source": [
    "# I did part two using LaTex"
   ]
  }
 ],
 "metadata": {
  "kernelspec": {
   "display_name": "Python 3",
   "language": "python",
   "name": "python3"
  },
  "language_info": {
   "codemirror_mode": {
    "name": "ipython",
    "version": 3
   },
   "file_extension": ".py",
   "mimetype": "text/x-python",
   "name": "python",
   "nbconvert_exporter": "python",
   "pygments_lexer": "ipython3",
   "version": "3.8.5"
  }
 },
 "nbformat": 4,
 "nbformat_minor": 4
}
